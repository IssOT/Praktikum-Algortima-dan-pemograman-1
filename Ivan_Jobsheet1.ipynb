{
  "nbformat": 4,
  "nbformat_minor": 0,
  "metadata": {
    "colab": {
      "provenance": []
    },
    "kernelspec": {
      "name": "python3",
      "display_name": "Python 3"
    },
    "language_info": {
      "name": "python"
    }
  },
  "cells": [
    {
      "cell_type": "code",
      "execution_count": 11,
      "metadata": {
        "colab": {
          "base_uri": "https://localhost:8080/"
        },
        "id": "rKA8Lg_JQgIZ",
        "outputId": "4a572a18-af11-4b53-8b0b-b4d44f0c4b6f"
      },
      "outputs": [
        {
          "output_type": "stream",
          "name": "stdout",
          "text": [
            "Masukan Panjang: 20\n",
            "Masukan Lebar: 35\n",
            "Luas persegi panjang=  700\n"
          ]
        }
      ],
      "source": [
        "# Praktikum Luas persegi panjang_Ivan\n",
        "p = int (input(\"Masukan Panjang: \"))\n",
        "i = int (input(\"Masukan Lebar: \"))\n",
        "luas = p * i\n",
        "print(\"Luas persegi panjang= \", luas)"
      ]
    },
    {
      "cell_type": "code",
      "source": [
        "# Praktikum Luas segitiga_Ivan\n",
        "import math\n",
        "a = float (input(\"Masukan sisi a: \"))\n",
        "b = float (input(\"Masukan sisi b: \"))\n",
        "c = float (input(\"Masukan sisi c: \"))\n",
        "\n",
        "s = (a+b+c)/2\n",
        "luas = math.sqrt(s*(s-a)*(s-b)*(s-c))\n",
        "print(\"Luas Segitiga=\", luas)\n"
      ],
      "metadata": {
        "colab": {
          "base_uri": "https://localhost:8080/"
        },
        "id": "pD42K83TSgpd",
        "outputId": "f68a63c4-cc7d-45fe-9757-a0bcd38248d6"
      },
      "execution_count": null,
      "outputs": [
        {
          "output_type": "stream",
          "name": "stdout",
          "text": [
            "Masukan sisi a: 15\n",
            "Masukan sisi b: 20\n",
            "Masukan sisi c: 25\n",
            "Luas Segitiga= 150.0\n"
          ]
        }
      ]
    },
    {
      "cell_type": "code",
      "source": [
        "#Konversi Suhu Celcius ke Fahrenheit\n",
        "\n",
        "c = float(input(\"Masukan suhu (C):\"))\n",
        "f = (c*9/5)+32\n",
        "print(\"Hasil konversi =\", f, \"F)\")"
      ],
      "metadata": {
        "colab": {
          "base_uri": "https://localhost:8080/"
        },
        "id": "IkDjaYQoVLGn",
        "outputId": "e8dbf2d7-6096-4b09-8a93-4df733f8add0"
      },
      "execution_count": null,
      "outputs": [
        {
          "output_type": "stream",
          "name": "stdout",
          "text": [
            "Masukan suhu (C):80\n",
            "Hasil konversi = 176.0 F)\n"
          ]
        }
      ]
    },
    {
      "cell_type": "code",
      "source": [
        "#Praktikum Luas lingkaran_Ivan\n",
        "import math\n",
        "r = float(input(\"Masukan jari-jari lingkaran:\"))\n",
        "luas = math.pi * r * r\n",
        "print(\"Luas lingkaran =\", luas)\n"
      ],
      "metadata": {
        "colab": {
          "base_uri": "https://localhost:8080/"
        },
        "id": "moLmYuvBVuSe",
        "outputId": "4aa77a19-25e5-4cad-d6dc-6e864261989b"
      },
      "execution_count": null,
      "outputs": [
        {
          "output_type": "stream",
          "name": "stdout",
          "text": [
            "Masukan jari-jari lingkaran:40\n",
            "Luas lingkaran = 5026.548245743669\n"
          ]
        }
      ]
    },
    {
      "cell_type": "code",
      "source": [
        "#Praktikum Menjumlahkan tiga bilangan_Ivan\n",
        "a = int(input(\"Masukan bilangan pertama:\"))\n",
        "b = int(input(\"Masukan bilangan kedua:\"))\n",
        "c = int(input(\"Masukan bilangan ketiga:\"))\n",
        "jumlah = a+b+c\n",
        "print(\"Jumlah =\", jumlah)"
      ],
      "metadata": {
        "id": "9kcdkXeDYtHt",
        "colab": {
          "base_uri": "https://localhost:8080/"
        },
        "outputId": "49319603-e815-4daa-c59f-010ae32a5c92"
      },
      "execution_count": 1,
      "outputs": [
        {
          "output_type": "stream",
          "name": "stdout",
          "text": [
            "Masukan bilangan pertama:4\n",
            "Masukan bilangan kedua:5\n",
            "Masukan bilangan ketiga:10\n",
            "Jumlah = 19\n"
          ]
        }
      ]
    },
    {
      "cell_type": "code",
      "source": [
        "kelahiran = int(input(\"Masukan tahun kelahiran:\"))\n",
        "tahun_sekarang = int(input(\"Masukan tahun sekarang:\"))\n",
        "umur = tahun_sekarang - kelahiran\n",
        "print(\"Sekarang anda berumur=\", umur, \"tahun\")"
      ],
      "metadata": {
        "colab": {
          "base_uri": "https://localhost:8080/"
        },
        "outputId": "2fbe36d8-6768-472a-8f56-28bdc464c072",
        "id": "7Tq4KP1bmHV5"
      },
      "execution_count": 12,
      "outputs": [
        {
          "output_type": "stream",
          "name": "stdout",
          "text": [
            "Masukan tahun kelahiran:2007\n",
            "Masukan tahun sekarang:2025\n",
            "Sekarang anda berumur= 18 tahun\n"
          ]
        }
      ]
    },
    {
      "cell_type": "code",
      "source": [
        "p = int(input(\"Masukan panjang:\"))\n",
        "l = int(input(\"Masukan lebar:\"))\n",
        "t = int(input(\"Masukan tinggi:\"))\n",
        "Volume = p*l*t\n",
        "print(\"Volume =\", Volume)"
      ],
      "metadata": {
        "colab": {
          "base_uri": "https://localhost:8080/"
        },
        "id": "tmxB5vMDHJ44",
        "outputId": "0d97cbb3-40a3-44c7-bb83-b60ff6da8b42"
      },
      "execution_count": 3,
      "outputs": [
        {
          "output_type": "stream",
          "name": "stdout",
          "text": [
            "Masukan panjang:15\n",
            "Masukan lebar:20\n",
            "Masukan tinggi:25\n",
            "Volume = 7500\n"
          ]
        }
      ]
    },
    {
      "cell_type": "code",
      "source": [
        "\n",
        "detik = int(input(\"Masukkan waktu dalam detik: \"))\n",
        "jam = detik // 3600\n",
        "jam_detik = detik % 3600\n",
        "menit = jam_detik // 60\n",
        "detik = jam_detik % 60\n",
        "print(f\"{jam} jam, {menit} menit, {detik} detik\")\n"
      ],
      "metadata": {
        "colab": {
          "base_uri": "https://localhost:8080/"
        },
        "id": "wLqRo1W6IEK9",
        "outputId": "773d4c9b-d7f2-4ead-b956-16e8e9bdcae4"
      },
      "execution_count": 1,
      "outputs": [
        {
          "output_type": "stream",
          "name": "stdout",
          "text": [
            "Masukkan waktu dalam detik: 57890\n",
            "16 jam, 4 menit, 50 detik\n"
          ]
        }
      ]
    },
    {
      "cell_type": "code",
      "source": [
        "nilai1 = float(input(\"Masukkan nilai mata kuliah pertama: \"))\n",
        "nilai2 = float(input(\"Masukkan nilai mata kuliah kedua: \"))\n",
        "nilai3 = float(input(\"Masukkan nilai mata kuliah ketiga: \"))\n",
        "\n",
        "rata_rata = (nilai1 + nilai2 + nilai3) / 3\n",
        "if rata_rata >= 60:\n",
        "    status = \"Lulus\"\n",
        "else:\n",
        "    status = \"Tidak Lulus\"\n",
        "print(f\"Rata-rata nilai: {rata_rata:.2f}\")\n",
        "print(f\"Status: {status}\")\n"
      ],
      "metadata": {
        "colab": {
          "base_uri": "https://localhost:8080/"
        },
        "id": "AGSr4xt7IuIn",
        "outputId": "abc1531e-84ab-4e06-80d2-cdd73c63611a"
      },
      "execution_count": 2,
      "outputs": [
        {
          "output_type": "stream",
          "name": "stdout",
          "text": [
            "Masukkan nilai mata kuliah pertama: 90\n",
            "Masukkan nilai mata kuliah kedua: 80\n",
            "Masukkan nilai mata kuliah ketiga: 70\n",
            "Rata-rata nilai: 80.00\n",
            "Status: Lulus\n"
          ]
        }
      ]
    },
    {
      "cell_type": "code",
      "source": [
        "belanja = int(input(\"Masukkan total belanja: \"))\n",
        "if belanja >= 500000:\n",
        "    diskon = 0.20\n",
        "elif belanja >= 250000:\n",
        "    diskon = 0.10\n",
        "else:\n",
        "    diskon = 0.0\n",
        "\n",
        "potongan = belanja * diskon\n",
        "total_bayar = belanja - potongan\n",
        "\n",
        "print(f\"Total belanja : Rp {belanja:,}\")\n",
        "print(f\"Diskon        : {diskon*100:.0f}%\")\n",
        "print(f\"Potongan      : Rp {potongan:,}\")\n",
        "print(f\"Total bayar   : Rp {total_bayar:,}\")\n"
      ],
      "metadata": {
        "colab": {
          "base_uri": "https://localhost:8080/"
        },
        "id": "kUTxfpEiIuZ-",
        "outputId": "9983a4f8-df52-4166-ecae-fe86a40d3f82"
      },
      "execution_count": 7,
      "outputs": [
        {
          "output_type": "stream",
          "name": "stdout",
          "text": [
            "Masukkan total belanja: 500000\n",
            "Total belanja : Rp 500,000\n",
            "Diskon        : 20%\n",
            "Potongan      : Rp 100,000.0\n",
            "Total bayar   : Rp 400,000.0\n"
          ]
        }
      ]
    }
  ]
}