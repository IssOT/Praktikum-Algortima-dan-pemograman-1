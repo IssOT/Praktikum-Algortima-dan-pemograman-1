{
  "nbformat": 4,
  "nbformat_minor": 0,
  "metadata": {
    "colab": {
      "provenance": [],
      "authorship_tag": "ABX9TyNZp+HthHw3kTsGFxNQRMfy",
      "include_colab_link": true
    },
    "kernelspec": {
      "name": "python3",
      "display_name": "Python 3"
    },
    "language_info": {
      "name": "python"
    }
  },
  "cells": [
    {
      "cell_type": "markdown",
      "metadata": {
        "id": "view-in-github",
        "colab_type": "text"
      },
      "source": [
        "<a href=\"https://colab.research.google.com/github/IssOT/Praktikum-Algortima-dan-pemograman-1/blob/main/Praktikum_2_Ivan_Sigit_Santoso.ipynb\" target=\"_parent\"><img src=\"https://colab.research.google.com/assets/colab-badge.svg\" alt=\"Open In Colab\"/></a>"
      ]
    },
    {
      "cell_type": "code",
      "execution_count": null,
      "metadata": {
        "colab": {
          "base_uri": "https://localhost:8080/"
        },
        "id": "kfhJJfkAQ1Tk",
        "outputId": "12f2fff7-2c45-4638-97e7-07b4f09c528c"
      },
      "outputs": [
        {
          "output_type": "stream",
          "name": "stdout",
          "text": [
            "Umur: 20 → <class 'int'>\n",
            "Tinggi: 170.5 → <class 'float'>\n",
            "Nama: Andi → <class 'str'>\n",
            "Status Mahasiswa: True → <class 'bool'>\n",
            "Nilai: [80, 85, 90] → <class 'list'>\n",
            "Koordinat: (10, 20) → <class 'tuple'>\n",
            "Data Mahasiswa: {'nama': 'Andi', 'umur': 20, 'prodi': 'TRK'} → <class 'dict'>\n",
            "Hobi: {'musik', 'membaca', 'olahraga'} → <class 'set'>\n"
          ]
        }
      ],
      "source": [
        "# Integer\n",
        "umur = 20\n",
        "print(\"Umur:\", umur, \"→\", type(umur));\n",
        "\n",
        "# Float\n",
        "tinggi = 170.5\n",
        "print(\"Tinggi:\", tinggi, \"→\", type(tinggi));\n",
        "\n",
        "# String\n",
        "nama = \"Andi\"\n",
        "print(\"Nama:\", nama, \"→\", type(nama));\n",
        "\n",
        "# Boolean\n",
        "is_mahasiswa = True\n",
        "print(\"Status Mahasiswa:\", is_mahasiswa, \"→\", type(is_mahasiswa));\n",
        "\n",
        "# List\n",
        "nilai = [80, 85, 90]\n",
        "print(\"Nilai:\", nilai, \"→\", type(nilai));\n",
        "\n",
        "# Tuple\n",
        "koordinat = (10, 20)\n",
        "print(\"Koordinat:\", koordinat, \"→\", type(koordinat));\n",
        "\n",
        "# Dictionary\n",
        "mahasiswa = {\"nama\": \"Andi\", \"umur\": 20, \"prodi\": \"TRK\"};\n",
        "print(\"Data Mahasiswa:\", mahasiswa, \"→\", type(mahasiswa));\n",
        "\n",
        "# Set\n",
        "hobi = {\"membaca\", \"olahraga\", \"musik\"};\n",
        "print(\"Hobi:\", hobi, \"→\", type(hobi))\n"
      ]
    },
    {
      "cell_type": "code",
      "source": [
        "# Input string\n",
        "nama = input(\"Masukkan nama Anda: \");\n",
        "\n",
        "# Input integer\n",
        "umur = int(input(\"Masukkan umur Anda: \"));\n",
        "\n",
        "# Input float\n",
        "tinggi = float(input(\"Masukkan tinggi badan (cm): \"));\n",
        "\n",
        "# Output standar\n",
        "print(\"Halo,\", nama, \"umur Anda:\", umur, \"tahun, tinggi:\", tinggi, \"cm\");\n",
        "\n",
        "# Output dengan format()\n",
        "print(\"Halo {0}, umur Anda {1} tahun, tinggi {2} cm\".format(nama, umur, tinggi))\n",
        "\n",
        "# Output dengan f-string\n",
        "print(f\"Halo {nama}, umur Anda {umur} tahun, tinggi {tinggi} cm\");\n"
      ],
      "metadata": {
        "colab": {
          "base_uri": "https://localhost:8080/"
        },
        "id": "bivVoJxGWhCK",
        "outputId": "1eee002a-fb8f-4f6b-e1d2-beb712898ab8"
      },
      "execution_count": null,
      "outputs": [
        {
          "output_type": "stream",
          "name": "stdout",
          "text": [
            "Masukkan nama Anda: Ivan Sigit Santoso\n",
            "Masukkan umur Anda: 17\n",
            "Masukkan tinggi badan (cm): 169\n",
            "Halo, Ivan Sigit Santoso umur Anda: 17 tahun, tinggi: 169.0 cm\n",
            "Halo Ivan Sigit Santoso, umur Anda 17 tahun, tinggi 169.0 cm\n",
            "Halo Ivan Sigit Santoso, umur Anda 17 tahun, tinggi 169.0 cm\n"
          ]
        }
      ]
    },
    {
      "cell_type": "code",
      "source": [
        "a = 15\n",
        "b = 4\n",
        "print(\"a + b =\", a + b)\n",
        "print(\"a - b =\", a - b)\n",
        "print(\"a * b =\", a * b)\n",
        "print(\"a / b =\", a / b)\n",
        "print(\"a // b =\", a // b)\n",
        "print(\"a % b =\", a % b)\n",
        "print(\"a ** b =\", a ** b)\n",
        "#Hasil program menunjukkan bahwa Python mampu melakukan perhitungan dasar dengan operator yang sederhana dan intuitif.\n"
      ],
      "metadata": {
        "colab": {
          "base_uri": "https://localhost:8080/"
        },
        "id": "CJao54v-YnBp",
        "outputId": "b35924d7-6f6b-48b1-d9eb-b179278586db"
      },
      "execution_count": null,
      "outputs": [
        {
          "output_type": "stream",
          "name": "stdout",
          "text": [
            "a + b = 19\n",
            "a - b = 11\n",
            "a * b = 60\n",
            "a / b = 3.75\n",
            "a // b = 3\n",
            "a % b = 3\n",
            "a ** b = 50625\n"
          ]
        }
      ]
    },
    {
      "cell_type": "code",
      "source": [
        "x = 10\n",
        "y = 20\n",
        "\n",
        "print(\"x == y :\", x == y)\n",
        "print(\"x != y :\", x != y)\n",
        "print(\"x < y :\", x < y)\n",
        "print(\"x > y :\", x > y)\n",
        "print(\"x <= y :\", x <= y)\n",
        "print(\"x >= y :\", x >= y)\n",
        "#Dalam kehidupan nyata, operator relasional bisa dipakai untuk mengecek apakah n"
      ],
      "metadata": {
        "colab": {
          "base_uri": "https://localhost:8080/"
        },
        "id": "LxXuyJKVYndm",
        "outputId": "103a376f-01d2-4980-923b-3de721e7d308"
      },
      "execution_count": null,
      "outputs": [
        {
          "output_type": "stream",
          "name": "stdout",
          "text": [
            "x == y : False\n",
            "x != y : True\n",
            "x < y : True\n",
            "x > y : False\n",
            "x <= y : True\n",
            "x >= y : False\n"
          ]
        }
      ]
    },
    {
      "cell_type": "code",
      "source": [
        "# Operator logika dasar\n",
        "a = True\n",
        "b = False\n",
        "\n",
        "print(\"a and b =\", a and b)\n",
        "print(\"a or b =\", a or b)\n",
        "print(\"not a =\", not a)\n",
        "\n",
        "# Studi kasus nyata: kelulusan\n",
        "nilai = int(input(\"Masukkan nilai ujian: \"))\n",
        "hadir = int(input(\"Masukkan jumlah kehadiran: \"))\n",
        "\n",
        "lulus_nilai = nilai >= 60\n",
        "lulus_hadir = hadir >= 12 # dari 16 pertemuan\n",
        "\n",
        "if lulus_nilai and lulus_hadir:\n",
        "  print(\"Status: LULUS\")\n",
        "\n",
        "else:\n",
        "  print(\"Status: TIDAK LULUS\")"
      ],
      "metadata": {
        "colab": {
          "base_uri": "https://localhost:8080/"
        },
        "id": "j99-gfsIZwr6",
        "outputId": "2d51d844-bd5f-405d-e6b0-6f8609d017e7"
      },
      "execution_count": null,
      "outputs": [
        {
          "output_type": "stream",
          "name": "stdout",
          "text": [
            "a and b = False\n",
            "a or b = True\n",
            "not a = False\n",
            "Masukkan nilai ujian: 70\n",
            "Masukkan jumlah kehadiran: 12\n",
            "Status: LULUS\n"
          ]
        }
      ]
    },
    {
      "cell_type": "code",
      "source": [
        "barang = input(\"Masukkan nama barang: \")\n",
        "harga = float(input(\"Masukkan harga barang: \"))\n",
        "jumlah = int(input(\"Masukkan jumlah barang: \"))\n",
        "\n",
        "total = harga * jumlah\n",
        "\n",
        " # Aturan diskon\n",
        "if total >= 500000:\n",
        "  diskon = 0.2\n",
        "elif total >= 250000:\n",
        "  diskon = 0.1\n",
        "else:\n",
        "  diskon = 0\n",
        "\n",
        "potongan = total * diskon\n",
        "bayar = total - potongan\n",
        "\n",
        "print(\"\\n===== Struk Belanja =====\")\n",
        "print(f\"Barang : {barang}\")\n",
        "print(f\"Jumlah : {jumlah}\")\n",
        "print(f\"Total : Rp {total}\")\n",
        "print(f\"Diskon : {diskon * 100}%\")\n",
        "print(f\"Bayar : Rp {bayar}\")"
      ],
      "metadata": {
        "colab": {
          "base_uri": "https://localhost:8080/"
        },
        "id": "ZIa5nscHbYbT",
        "outputId": "2a35e0ee-4ca9-4761-cf37-967c8de5c947"
      },
      "execution_count": null,
      "outputs": [
        {
          "output_type": "stream",
          "name": "stdout",
          "text": [
            "Masukkan nama barang: Iphone 17\n",
            "Masukkan harga barang: 17249000\n",
            "Masukkan jumlah barang: 1\n",
            "\n",
            "===== Struk Belanja =====\n",
            "Barang : Iphone 17\n",
            "Jumlah : 1\n",
            "Total : Rp 17249000.0\n",
            "Diskon : 20.0%\n",
            "Bayar : Rp 13799200.0\n"
          ]
        }
      ]
    },
    {
      "cell_type": "code",
      "source": [
        "#Identitas Mahasiswa\n",
        "# Tipe data: str (string)\n",
        "nama = input(\"Masukkan Nama Mahasiswa: \")\n",
        "# Tipe data: int (integer)\n",
        "umur = int(input(\"Masukan Umur Mahasiswa: \"))\n",
        "# Tipe data: float (bilangan desimal, misalnya dalam cm)\n",
        "tinggi = float(input(\"Masukan Tinggi Mahasiswa : \"))\n",
        "# Tipe data: bool (boolean)\n",
        "status = input(\"Apakah Mahasiswa Aktif? (Aktif/Tidak Aktif): \")\n",
        "# Print rapi dengan f-string\n",
        "print(\"================================\")\n",
        "print(\"     IDENTITAS MAHASISWA\")\n",
        "print(\"================================\")\n",
        "print(f\"Nama Lengkap : {nama}\")\n",
        "print(f\"Umur         : {umur} tahun\")\n",
        "print(f\"Tinggi Badan : {tinggi} cm\")\n",
        "print(f\"Status       : {status}\")\n",
        "print(\"================================\")"
      ],
      "metadata": {
        "colab": {
          "base_uri": "https://localhost:8080/"
        },
        "id": "fA3Q6C30bFnJ",
        "outputId": "8b6cb238-a3ce-4032-b157-3ce4bde0c0b4"
      },
      "execution_count": null,
      "outputs": [
        {
          "output_type": "stream",
          "name": "stdout",
          "text": [
            "Masukkan Nama Mahasiswa: ivan\n",
            "Masukan Umur Mahasiswa: 17\n",
            "Masukan Tinggi Mahasiswa : 289\n",
            "Apakah Mahasiswa Aktif? (Aktif/Tidak Aktif): aktif\n",
            "================================\n",
            "     IDENTITAS MAHASISWA\n",
            "================================\n",
            "Nama Lengkap : ivan\n",
            "Umur         : 17 tahun\n",
            "Tinggi Badan : 289.0 cm\n",
            "Status       : aktif\n",
            "================================\n"
          ]
        }
      ]
    },
    {
      "cell_type": "code",
      "source": [
        "#Operasi Aritmatika\n",
        "# Meminta input dari pengguna\n",
        "a = int(input(\"Masukkan bilangan bulat pertama: \"))\n",
        "b = int(input(\"Masukkan bilangan bulat kedua: \"))\n",
        "# Menghitung operasi\n",
        "penjumlahan = a + b\n",
        "pengurangan = a - b\n",
        "perkalian = a * b\n",
        "# Pengecekan untuk pembagian dan sisa bagi\n",
        "if b != 0:\n",
        "    pembagian = a / b\n",
        "    sisa_bagi = a % b\n",
        "else:\n",
        "    pembagian = \"Tidak dapat dibagi oleh nol\"\n",
        "    sisa_bagi = \"Tidak dapat dibagi oleh nol\"\n",
        "# Perpangkatan (a pangkat b)\n",
        "perpangkatan = a ** b\n",
        "# Menampilkan hasil\n",
        "print(\"================================\")\n",
        "print(f\"\\n        Hasil operasi:\")\n",
        "print(\"================================\")\n",
        "print(f\"Penjumlahan: {a} + {b} = {penjumlahan}\")\n",
        "print(f\"Pengurangan: {a} - {b} = {pengurangan}\")\n",
        "print(f\"Perkalian: {a} * {b} = {perkalian}\")\n",
        "print(f\"Pembagian: {a} / {b} = {pembagian}\")\n",
        "print(f\"Sisa bagi: {a} % {b} = {sisa_bagi}\")\n",
        "print(f\"Perpangkatan: {a} ** {b} = {perpangkatan}\")\n",
        "print(\"================================\")"
      ],
      "metadata": {
        "id": "enGhT6ySm9Kq",
        "colab": {
          "base_uri": "https://localhost:8080/"
        },
        "outputId": "a93a80c2-6416-4ba8-bf1a-0eb1ee0fa9eb"
      },
      "execution_count": null,
      "outputs": [
        {
          "output_type": "stream",
          "name": "stdout",
          "text": [
            "Masukkan bilangan bulat pertama: 50\n",
            "Masukkan bilangan bulat kedua: 10\n",
            "================================\n",
            "\n",
            "        Hasil operasi:\n",
            "================================\n",
            "Penjumlahan: 50 + 10 = 60\n",
            "Pengurangan: 50 - 10 = 40\n",
            "Perkalian: 50 * 10 = 500\n",
            "Pembagian: 50 / 10 = 5.0\n",
            "Sisa bagi: 50 % 10 = 0\n",
            "Perpangkatan: 50 ** 10 = 97656250000000000\n",
            "================================\n"
          ]
        }
      ]
    },
    {
      "cell_type": "markdown",
      "source": [],
      "metadata": {
        "id": "lfyQgiLmvyxO"
      }
    },
    {
      "cell_type": "code",
      "source": [
        "#Konversi nilai\n",
        "num = float(input(\"Masukkan angka desimal: \"))\n",
        "integer_value = int(num)\n",
        "string_value = str(num)\n",
        "rounded_value = float(f\"{num:.2f}\")\n",
        "print(f\"\\nHasil konversi:\")\n",
        "print(f\"Bentuk integer: {integer_value}\")\n",
        "print(f\"Bentuk string: {string_value}\")\n",
        "print(f\"Pembulatan 2 digit di belakang koma: {rounded_value}\")"
      ],
      "metadata": {
        "colab": {
          "base_uri": "https://localhost:8080/"
        },
        "id": "HCQF_gmWXoyL",
        "outputId": "e7fcde51-7481-4350-ff66-ce3da1b32d63"
      },
      "execution_count": 69,
      "outputs": [
        {
          "output_type": "stream",
          "name": "stdout",
          "text": [
            "Masukkan angka desimal: 87.937\n",
            "\n",
            "Hasil konversi:\n",
            "Bentuk integer: 87\n",
            "Bentuk string: 87.937\n",
            "Pembulatan 2 digit di belakang koma: 87.94\n"
          ]
        }
      ]
    },
    {
      "cell_type": "code",
      "source": [
        "# Program untuk perbandingan dua bilangan\n",
        "\n",
        "# Meminta input dari pengguna dengan penanganan error\n",
        "num1 = float(input(\"Masukkan bilangan pertama: \"))\n",
        "num2 = float(input(\"Masukkan bilangan kedua: \"))\n",
        "# Melakukan perbandingan\n",
        "sama = num1 == num2\n",
        "tidak_sama = num1 != num2\n",
        "kurang_dari = num1 < num2\n",
        "lebih_dari = num1 > num2\n",
        "kurang_sama = num1 <= num2\n",
        "lebih_sama = num1 >= num2\n",
        "# Menampilkan hasil\n",
        "print(f\"\\nHasil perbandingan antara {num1} dan {num2}:\")\n",
        "print(f\"{num1} == {num2} : {sama}\")\n",
        "print(f\"{num1} != {num2} : {tidak_sama}\")\n",
        "print(f\"{num1} < {num2} : {kurang_dari}\")\n",
        "print(f\"{num1} > {num2} : {lebih_dari}\")\n",
        "print(f\"{num1} <= {num2} : {kurang_sama}\")\n",
        "print(f\"{num1} >= {num2} : {lebih_sama}\")"
      ],
      "metadata": {
        "colab": {
          "base_uri": "https://localhost:8080/"
        },
        "id": "79QOe8Rlx7Dh",
        "outputId": "6b8373d3-0f1f-4867-a401-f39118c1213b"
      },
      "execution_count": 72,
      "outputs": [
        {
          "output_type": "stream",
          "name": "stdout",
          "text": [
            "Masukkan bilangan pertama: 80\n",
            "Masukkan bilangan kedua: 20\n",
            "\n",
            "Hasil perbandingan antara 80.0 dan 20.0:\n",
            "80.0 == 20.0 : False\n",
            "80.0 != 20.0 : True\n",
            "80.0 < 20.0 : False\n",
            "80.0 > 20.0 : True\n",
            "80.0 <= 20.0 : False\n",
            "80.0 >= 20.0 : True\n"
          ]
        }
      ]
    }
  ]
}